{
 "cells": [
  {
   "cell_type": "markdown",
   "metadata": {},
   "source": [
    "LaTeX header (do not delete)\n",
    "$$\n",
    "\\newcommand{\\matrix}[1]{\\boldsymbol{\\mathsf{#1}}}\n",
    "\\newcommand{\\vect}[1]{\\vec{#1}}\n",
    "$$"
   ]
  },
  {
   "cell_type": "markdown",
   "metadata": {},
   "source": [
    "# Rigid Body Dynamics -- Integrating Euler's Equations\n",
    "---\n",
    "\n",
    "Newton's second law for rotational motion can be written as\n",
    "\n",
    "\\begin{equation}\n",
    "  \\left(\\frac{d\\vect{L}}{dt}\\right)_\\mathrm{fixed} \n",
    "  = \\quad\\left(\\frac{d\\vect{L}}{dt}\\right)_\\mathrm{body} + \\quad \\vect{\\omega}\\times\\vect{L} \\quad\n",
    "  = \\quad \\vect{N}\n",
    "\\end{equation}\n",
    "\n",
    "where $\\vect{L}$ is the body's angular momentum, $\\vect{\\omega}$ is the instantaneous rotation vector of the body, and $\\vect{N}$ is the net external torque exerted on the body. \n",
    "\n",
    "To simplify the equations, we work in a principal-axis frame. That is, we choose a coordinate system that is co-moving with the rigid body and whose axes ($x_{1}, x_{2}, x_{3}$) are aligned with the principal axes of the body. With this assumption the inertia tensor is diagonalized and as a result $L_{i} = I_{i}\\omega_{i}$ with $i=1,2,3$. Here the $I_{i}$'s are the principal moments of inertia, i.e., the diagonal elements of the inertia tensor in the principal-axis frame. Because the body is rigid, the components of the inertia tensor are constant, so $\\dot{L}_{i}=\\frac{d}{dt}(I_{i}\\omega_{i})=I_{i}\\dot{\\omega}_{i}$. This yields Euler's equations of motion for a general rigid body\n",
    "\n",
    "\\begin{align}\n",
    "  & I_{1}\\dot{\\omega}_{1} - (I_{2} - I_{3})\\omega_{2}\\omega_{3} = N_{1} \\\\\n",
    "  & I_{2}\\dot{\\omega}_{2} - (I_{3} - I_{1})\\omega_{3}\\omega_{1} = N_{2} \\\\\n",
    "  & I_{3}\\dot{\\omega}_{3} - (I_{1} - I_{2})\\omega_{1}\\omega_{2} = N_{3}\n",
    "\\end{align}\n",
    "\n",
    "(NOTE: the vector components that appear here are taken with respect to the principal-axis (body) frame.)\n",
    "\n",
    "In the special case of force-free motion, the right-hand sides vanish, i.e., $N_{1}=N_{2}=N_{3}=0$. Euler's equations then simplify to \n",
    "\n",
    "\\begin{align}\n",
    "  & I_{1}\\dot{\\omega}_{1} - (I_{2} - I_{3})\\omega_{2}\\omega_{3} = 0 \\\\\n",
    "  & I_{2}\\dot{\\omega}_{2} - (I_{3} - I_{1})\\omega_{3}\\omega_{1} = 0 \\\\\n",
    "  & I_{3}\\dot{\\omega}_{3} - (I_{1} - I_{2})\\omega_{1}\\omega_{2} = 0\n",
    "\\end{align}\n",
    "\n",
    "Solving these equations yields the evolution of the rotation vector $\\vect{\\omega}$ in the body frame. Analytical solutions can be found in the case of force-free motion and special cases with torque. In the general case, the equations must be solved numerically."
   ]
  },
  {
   "cell_type": "markdown",
   "metadata": {},
   "source": [
    "## Case 1. Spherical top\n",
    "\n",
    "A rigid body with three equal principal moments of inertia, $I_{1}=I_{2}=I_{3}$, is called a spherical top. The force-free motion of a spherical top is trivial. Euler's equations become\n",
    "\n",
    "\\begin{align}\n",
    "  \\dot{\\omega}_{1} = 0 \\\\\n",
    "  \\dot{\\omega}_{2} = 0 \\\\\n",
    "  \\dot{\\omega}_{3} = 0\n",
    "\\end{align}\n",
    "\n",
    "and so each component of $\\vect{\\omega}$ is constant. "
   ]
  },
  {
   "cell_type": "markdown",
   "metadata": {},
   "source": [
    "## Case 2. Symmetric top\n",
    "\n",
    "A rigid body with two equal principal moments of inertia, $I_{1}=I_{2}\\neq I_{3}$, is called a symmetric top. The force-free version of Euler's equations become\n",
    "\n",
    "\\begin{align}\n",
    "  I_{1}\\dot{\\omega}_{1} - (I_{2} - I_{3})\\omega_{2}\\omega_{3} = 0 \\\\\n",
    "  I_{2}\\dot{\\omega}_{2} - (I_{3} - I_{1})\\omega_{3}\\omega_{1} = 0 \\\\\n",
    "  I_{3}\\dot{\\omega}_{3} = 0\n",
    "\\end{align}\n",
    "\n",
    "The last equation is immediately integrated to yield $\\omega_{3}=\\mathrm{constant}$. The remaining equations can be written as\n",
    "\n",
    "\\begin{align}\n",
    "  \\dot{\\omega}_{1} + \\Omega\\omega_{2} = 0 \\\\\n",
    "  \\dot{\\omega}_{2} - \\Omega\\omega_{1} = 0\n",
    "\\end{align}\n",
    "\n",
    "where $\\Omega = \\left(\\frac{I_{3} - I_{1}}{I_{1}}\\right)\\omega_{3}$. Standard tricks yield the exact solutions\n",
    "\n",
    "\\begin{align}\n",
    "  \\omega_{1} = A\\cos(\\Omega t) + B\\sin(\\Omega t)\\\\\n",
    "  \\omega_{2} = A\\sin(\\Omega t) - B\\cos(\\Omega t)\n",
    "\\end{align}\n",
    "\n",
    "where $A$ and $B$ are integration constants determined by initial conditions."
   ]
  },
  {
   "cell_type": "markdown",
   "metadata": {},
   "source": [
    "## Case 3. Asymmetric top\n",
    "\n",
    "A rigid body with three distinct principal moments of inertia is called an asymmetric top. In this case the force-free version of Euler's equations can be solved analytically in terms of Jacobian elliptic functions...\n",
    "\n",
    "**[UNDER CONSTRUCTION]**"
   ]
  },
  {
   "cell_type": "markdown",
   "metadata": {},
   "source": [
    "## Numerical integration\n",
    "\n",
    "To solve numerically, we can first re-write the Euler equations as\n",
    "\n",
    "\\begin{align}\n",
    "  & \\frac{d\\omega_{1}}{dt} = f_{1}(\\omega_{1}, \\omega_{2}, \\omega_{3}) \\\\\n",
    "  & \\frac{d\\omega_{2}}{dt} = f_{2}(\\omega_{1}, \\omega_{2}, \\omega_{3}) \\\\\n",
    "  & \\frac{d\\omega_{3}}{dt} = f_{3}(\\omega_{1}, \\omega_{2}, \\omega_{3})\n",
    "\\end{align}\n",
    "\n",
    "where\n",
    "\n",
    "\\begin{align}\n",
    "  & f_{1} = \\frac{(I_{2} - I_{3})}{I_{1}}\\omega_{2}\\omega_{3} + \\frac{N_{1}}{I_{1}} \\\\\n",
    "  & f_{2} = \\frac{(I_{3} - I_{1})}{I_{2}}\\omega_{3}\\omega_{1} + \\frac{N_{2}}{I_{2}} \\\\\n",
    "  & f_{3} = \\frac{(I_{1} - I_{2})}{I_{3}}\\omega_{1}\\omega_{2} + \\frac{N_{3}}{I_{3}}\n",
    "\\end{align}\n",
    "\n",
    "Then we solve these equations using a standard numerical integrator, for example 4th-order Runge-Kutta.\n",
    "\n",
    "To obtain the orientation of the body, we need to carry out a further integration. Here we will use Euler angles $\\phi$, $\\theta$, and $\\psi$ as generalized coordinates that fix the body's orientation. (For the definition and discussion of Euler angles, see [euler-angles.ipynb](http://github.com/ejwest2/Rotation/euler-angles.ipynb)). The components of $\\vect{\\omega}$ in the body frame are related to the Euler angles by\n",
    "\n",
    "\\begin{equation}\n",
    "  \\left[\\begin{array}{c}\n",
    "    \\omega_{1}(t) \\\\\n",
    "    \\omega_{2}(t) \\\\\n",
    "    \\omega_{3}(t)    \n",
    "  \\end{array}\\right]\n",
    "  =\n",
    "  \\left[\\begin{array}{c}\n",
    "    \\omega_{\\phi} \\sin\\theta \\sin\\psi + \\omega_{\\theta} \\cos\\psi \\\\\n",
    "    \\omega_{\\phi} \\sin\\theta \\cos\\psi - \\omega_{\\theta} \\sin\\psi \\\\\n",
    "    \\omega_{\\phi} \\cos\\theta + \\omega_{\\psi}\n",
    "  \\end{array}\\right]\n",
    "  =\n",
    "  \\left[\\begin{array}{c}\n",
    "    \\dot{\\phi} \\sin\\theta \\sin\\psi + \\dot{\\theta} \\cos\\psi \\\\\n",
    "    \\dot{\\phi} \\sin\\theta \\cos\\psi - \\dot{\\theta} \\sin\\psi \\\\\n",
    "    \\dot{\\phi} \\cos\\theta + \\dot{\\psi}\n",
    "  \\end{array}\\right]\n",
    "\\end{equation}\n",
    "\n",
    "Solving this set of equations for $\\dot{\\phi}$, $\\dot{\\theta}$, and $\\dot{\\psi}$ yields\n",
    "\n",
    "\\begin{align}\n",
    "  & \\dot{\\phi} = f_{\\phi}(\\phi, \\theta, \\psi, t) \\\\\n",
    "  & \\dot{\\theta} = f_{\\theta}(\\phi, \\theta, \\psi, t) \\\\\n",
    "  & \\dot{\\psi} = f_{\\psi}(\\phi, \\theta, \\psi, t)\n",
    "\\end{align}\n",
    "\n",
    "where\n",
    "\n",
    "\\begin{align}\n",
    "  & f_{\\phi} = \\omega_{1}(t)\\csc{\\theta}\\sin{\\psi} + \\omega_{2}(t)\\csc{\\theta}\\cos{\\psi} \\\\ \n",
    "  & f_{\\theta} = \\omega_{1}(t)\\cos{\\psi} - \\omega_{2}(t)\\sin{\\psi} \\\\\n",
    "  & f_{\\psi} = -\\omega_{1}(t)\\cot{\\theta}\\sin{\\psi} - \\omega_{2}(t)\\cot{\\theta}\\cos{\\psi} + \\omega_{3}(t)\n",
    "\\end{align}\n",
    "\n",
    "At each time step, $\\omega_{1}(t)$, $\\omega_{2}(t)$, and $\\omega_{3}(t)$ are determined from the first integration. A second integration is performed at each step to obtain the Euler angles. "
   ]
  },
  {
   "cell_type": "code",
   "execution_count": 1,
   "metadata": {},
   "outputs": [],
   "source": [
    "# set graphics backend\n",
    "%matplotlib notebook\n",
    "# import packages\n",
    "import numpy as np\n",
    "import matplotlib.pyplot as plt"
   ]
  },
  {
   "cell_type": "markdown",
   "metadata": {},
   "source": [
    "**[UNDER CONSTRUCTION (Matthew Summers)]**"
   ]
  },
  {
   "cell_type": "code",
   "execution_count": null,
   "metadata": {},
   "outputs": [],
   "source": []
  }
 ],
 "metadata": {
  "kernelspec": {
   "display_name": "Python 3",
   "language": "python",
   "name": "python3"
  },
  "language_info": {
   "codemirror_mode": {
    "name": "ipython",
    "version": 3
   },
   "file_extension": ".py",
   "mimetype": "text/x-python",
   "name": "python",
   "nbconvert_exporter": "python",
   "pygments_lexer": "ipython3",
   "version": "3.5.2"
  }
 },
 "nbformat": 4,
 "nbformat_minor": 2
}
