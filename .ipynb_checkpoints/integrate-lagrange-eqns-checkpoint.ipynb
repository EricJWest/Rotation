{
 "cells": [
  {
   "cell_type": "markdown",
   "metadata": {},
   "source": [
    "LaTeX header (do not delete)\n",
    "$$\n",
    "\\newcommand{\\matrix}[1]{\\boldsymbol{\\mathsf{#1}}}\n",
    "\\newcommand{\\vect}[1]{\\vec{#1}}\n",
    "$$"
   ]
  },
  {
   "cell_type": "markdown",
   "metadata": {},
   "source": [
    "# Rigid Body Dynamics -- Integrating the Euler-Lagrange Equations\n",
    "---\n",
    "\n",
    "Lagrangian, Lagrange multipliers, \n",
    "**[UNDER CONSTRUCTION (Taeho Lim)]**"
   ]
  },
  {
   "cell_type": "markdown",
   "metadata": {},
   "source": [
    "## Case 1. Spherical top\n",
    "\n",
    "A rigid body with three equal principal moments of inertia, $I_{1}=I_{2}=I_{3}$, is called a spherical top. \n",
    "The Euler-Lagrange equations of motion become...\n",
    "\n",
    "**[UNDER CONSTRUCTION]**\n",
    "\n",
    "Comparsion to solutions obtained by integrating the force-free Euler equations (see [integrate-euler-eqns.ipynb](https://github.com/ejwest2/Rotation/integrate-euler-eqns.ipynb)).\n",
    "\n",
    "**[UNDER CONSTRUCTION]**\n"
   ]
  },
  {
   "cell_type": "markdown",
   "metadata": {},
   "source": [
    "## Case 2. Symmetric top\n",
    "\n",
    "A rigid body with two equal principal moments of inertia, $I_{1}=I_{2}\\neq I_{3}$, is called a symmetric top. \n",
    "The Euler-Lagrange equations of motion become...\n",
    "\n",
    "**[UNDER CONSTRUCTION]**\n",
    "\n",
    "Comparsion to solutions obtained by integrating the force-free Euler equations (see [integrate-euler-eqns.ipynb](https://github.com/ejwest2/Rotation/integrate-euler-eqns.ipynb)).\n",
    "\n",
    "**[UNDER CONSTRUCTION]**"
   ]
  },
  {
   "cell_type": "markdown",
   "metadata": {},
   "source": [
    "## Case 3. Asymmetric top\n",
    "\n",
    "A rigid body with three distinct principal moments of inertia is called an asymmetric top. In this case the force-free version of Euler's equations can be solved analytically in terms of Jacobian elliptic functions...\n",
    "\n",
    "**[UNDER CONSTRUCTION]**\n",
    "\n",
    "The Euler-Lagrange equations of motion become...\n",
    "\n",
    "**[UNDER CONSTRUCTION]**\n",
    "\n",
    "Comparsion to solutions obtained by integrating the force-free Euler equations (see [integrate-euler-eqns.ipynb](https://github.com/ejwest2/Rotation/integrate-euler-eqns.ipynb)).\n",
    "\n",
    "**[UNDER CONSTRUCTION]**\n"
   ]
  },
  {
   "cell_type": "markdown",
   "metadata": {},
   "source": [
    "## Numerical integration\n",
    "\n",
    "**[UNDER CONSTRUCTION]**\n",
    "\n",
    "**[EJW: THE FOLLOWING NOTES ARE FOR DIRECT INTEGRATION OF EULER'S EQUATIONS. THESE NEED TO BE MODIFIED FOR THE EULER-LAGRANGE EQUATIONS, WHICH COME FROM A LAGRANGIAN APPROACH.]**\n",
    "\n",
    "To solve numerically, we can first re-write the Euler equations as\n",
    "\n",
    "\\begin{align}\n",
    "  & \\frac{d\\omega_{1}}{dt} = f_{1}(\\omega_{1}, \\omega_{2}, \\omega_{3}) \\\\\n",
    "  & \\frac{d\\omega_{2}}{dt} = f_{2}(\\omega_{1}, \\omega_{2}, \\omega_{3}) \\\\\n",
    "  & \\frac{d\\omega_{3}}{dt} = f_{3}(\\omega_{1}, \\omega_{2}, \\omega_{3})\n",
    "\\end{align}\n",
    "\n",
    "where\n",
    "\n",
    "\\begin{align}\n",
    "  & f_{1} = \\frac{(I_{2} - I_{3})}{I_{1}}\\omega_{2}\\omega_{3} + \\frac{N_{1}}{I_{1}} \\\\\n",
    "  & f_{2} = \\frac{(I_{3} - I_{1})}{I_{2}}\\omega_{3}\\omega_{1} + \\frac{N_{2}}{I_{2}} \\\\\n",
    "  & f_{3} = \\frac{(I_{1} - I_{2})}{I_{3}}\\omega_{1}\\omega_{2} + \\frac{N_{3}}{I_{3}}\n",
    "\\end{align}\n",
    "\n",
    "Then we solve these equations using a standard numerical integrator, for example 4th-order Runge-Kutta.\n",
    "\n",
    "To obtain the orientation of the body, we need to carry out a further integration. Here we will use Euler angles $\\phi$, $\\theta$, and $\\psi$ as generalized coordinates that fix the body's orientation. (For the definition and discussion of Euler angles, see [euler-angles.ipynb](http://github.com/ejwest2/Rotation/euler-angles.ipynb)). The components of $\\vect{\\omega}$ in the body frame are related to the Euler angles by\n",
    "\n",
    "\\begin{equation}\n",
    "  \\left[\\begin{array}{c}\n",
    "    \\omega_{1}(t) \\\\\n",
    "    \\omega_{2}(t) \\\\\n",
    "    \\omega_{3}(t)    \n",
    "  \\end{array}\\right]\n",
    "  =\n",
    "  \\left[\\begin{array}{c}\n",
    "    \\omega_{\\phi} \\sin\\theta \\sin\\psi + \\omega_{\\theta} \\cos\\psi \\\\\n",
    "    \\omega_{\\phi} \\sin\\theta \\cos\\psi - \\omega_{\\theta} \\sin\\psi \\\\\n",
    "    \\omega_{\\phi} \\cos\\theta + \\omega_{\\psi}\n",
    "  \\end{array}\\right]\n",
    "  =\n",
    "  \\left[\\begin{array}{c}\n",
    "    \\dot{\\phi} \\sin\\theta \\sin\\psi + \\dot{\\theta} \\cos\\psi \\\\\n",
    "    \\dot{\\phi} \\sin\\theta \\cos\\psi - \\dot{\\theta} \\sin\\psi \\\\\n",
    "    \\dot{\\phi} \\cos\\theta + \\dot{\\psi}\n",
    "  \\end{array}\\right]\n",
    "\\end{equation}\n",
    "\n",
    "Solving this set of equations for $\\dot{\\phi}$, $\\dot{\\theta}$, and $\\dot{\\psi}$ yields\n",
    "\n",
    "\\begin{align}\n",
    "  & \\dot{\\phi} = f_{\\phi}(\\phi, \\theta, \\psi, t) \\\\\n",
    "  & \\dot{\\theta} = f_{\\theta}(\\phi, \\theta, \\psi, t) \\\\\n",
    "  & \\dot{\\psi} = f_{\\psi}(\\phi, \\theta, \\psi, t)\n",
    "\\end{align}\n",
    "\n",
    "where\n",
    "\n",
    "\\begin{align}\n",
    "  & f_{\\phi} = \\omega_{1}(t)\\csc{\\theta}\\sin{\\psi} + \\omega_{2}(t)\\csc{\\theta}\\cos{\\psi} \\\\ \n",
    "  & f_{\\theta} = \\omega_{1}(t)\\cos{\\psi} - \\omega_{2}(t)\\sin{\\psi} \\\\\n",
    "  & f_{\\psi} = -\\omega_{1}(t)\\cot{\\theta}\\sin{\\psi} - \\omega_{2}(t)\\cot{\\theta}\\cos{\\psi} + \\omega_{3}(t)\n",
    "\\end{align}\n",
    "\n",
    "At each time step, $\\omega_{1}(t)$, $\\omega_{2}(t)$, and $\\omega_{3}(t)$ are determined from the first integration. A second integration is performed at each step to obtain the Euler angles. "
   ]
  },
  {
   "cell_type": "code",
   "execution_count": 1,
   "metadata": {},
   "outputs": [],
   "source": [
    "# set graphics backend\n",
    "%matplotlib notebook\n",
    "# import packages\n",
    "import numpy as np\n",
    "import matplotlib.pyplot as plt"
   ]
  },
  {
   "cell_type": "markdown",
   "metadata": {},
   "source": [
    "**[UNDER CONSTRUCTION (Taeho Lim)]**"
   ]
  },
  {
   "cell_type": "code",
   "execution_count": null,
   "metadata": {},
   "outputs": [],
   "source": []
  }
 ],
 "metadata": {
  "kernelspec": {
   "display_name": "Python 3",
   "language": "python",
   "name": "python3"
  },
  "language_info": {
   "codemirror_mode": {
    "name": "ipython",
    "version": 3
   },
   "file_extension": ".py",
   "mimetype": "text/x-python",
   "name": "python",
   "nbconvert_exporter": "python",
   "pygments_lexer": "ipython3",
   "version": "3.6.5"
  }
 },
 "nbformat": 4,
 "nbformat_minor": 2
}
