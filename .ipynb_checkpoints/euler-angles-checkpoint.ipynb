{
 "cells": [
  {
   "cell_type": "markdown",
   "metadata": {},
   "source": [
    "LaTeX header (do not delete)\n",
    "$$\n",
    "\\newcommand{\\matrix}[1]{\\boldsymbol{\\mathsf{#1}}}\n",
    "\\newcommand{\\vect}[1]{\\vec{\\boldsymbol{#1}}}\n",
    "$$"
   ]
  },
  {
   "cell_type": "markdown",
   "metadata": {},
   "source": [
    "# Euler Angles\n",
    "---\n",
    "\n",
    "A rigid body in three dimensions has six degrees of freedom: three degrees of freedom to locate the position of some point in the body, and three degrees of freedom to describe the orientation of the body relative to that point. We may call these the \"translational\" and \"rotational\" degrees of freedom, thanks to Chasles's theorem:\n",
    "\n",
    "*The most general displacement of a rigid body is a translation plus a rotation*\n",
    "\n",
    "One choice for the three rotational degrees of freedom are the so-called Euler angles: a succession of three rotation angles about various orthogonal axes. Since two consecutive rotations about the same axis is equivalent to a single rotation, we only need to consider sequences around *different* successive axes. There are three possibilities for choosing the first rotation axis, and then two possibilities for each rotation after that. So for three consecutive rotations there are $3\\times 2\\times 2 = 12$ possibilities, abbreviated here\n",
    "\n",
    "\\begin{array}{ccc}\n",
    "  xyx & xyz & xzx & xzy \\\\\n",
    "  yzy & yzx & yxy & yxz \\\\\n",
    "  zxz & zxy & zyz & zyx \\\\\n",
    "\\end{array}\n",
    "\n",
    "The $zyz$ sequence is commonly used in quantum mechanics, when discussing angular momentum. The $xyz$ sequence is commonly used in aeronautical and engineering applications. Here we develop the $zxz$ sequence, which is commonly used in celestial mechanics. The $zxz$ sequence is shown below."
   ]
  },
  {
   "cell_type": "markdown",
   "metadata": {},
   "source": [
    "<img src=\"euler_angles_zxz.svg\">"
   ]
  },
  {
   "cell_type": "markdown",
   "metadata": {},
   "source": [
    "We start with a coordinate system with coordinates $\\{x,y,z\\}$. For most applications, this frame is taken to be a fixed inertial coordinate system. \n",
    "\n",
    "The first rotation is about the $z$-axis by angle $\\phi$. This induces the coordinate transformation $\\{x,y,z\\}\\rightarrow\\{x',y',z'\\}$. The matrix representation of this rotation is given by\n",
    "\n",
    "\\begin{align}\n",
    "\\matrix{R}_{z}(\\phi) = \n",
    "\\left[\\begin{array}{ccc}\n",
    "  \\cos{\\phi} & \\sin{\\phi} & 0 \\\\\n",
    "  -\\sin{\\phi} & \\cos{\\phi} & 0 \\\\\n",
    "  0 & 0 & 1   \n",
    "\\end{array}\\right]\n",
    "\\end{align}\n",
    "\n",
    "The second rotation is about the $x'$-axis (i.e., the *new* $x$-axis) by angle $\\theta$. This rotation induces the coordinate transformation $\\{x',y',z'\\}\\rightarrow\\{x'',y'',z''\\}$. The matrix representation of this rotation is given by\n",
    "\n",
    "\\begin{align}\n",
    "\\matrix{R}_{x'}(\\theta) = \n",
    "\\left[\\begin{array}{ccc}\n",
    "  1 & 0 & 0 \\\\   \n",
    "  0 & \\cos{\\phi} & \\sin{\\phi} \\\\\n",
    "  0 & -\\sin{\\phi} & \\cos{\\phi} \\\\\n",
    "\\end{array}\\right]\n",
    "\\end{align}\n",
    "\n",
    "The third and final rotation is about the $z''$-axis (i.e., the *new* $z$-axis) by angle $\\psi$. This induces the coordinate transformation $\\{x'',y'',z''\\}\\rightarrow\\{x''',y''',z'''\\}$. The matrix representation of this rotation is given by\n",
    "\n",
    "\\begin{align}\n",
    "\\matrix{R}_{z''}(\\psi) = \n",
    "\\left[\\begin{array}{ccc}\n",
    "  \\cos{\\psi} & \\sin{\\psi} & 0 \\\\\n",
    "  -\\sin{\\psi} & \\cos{\\psi} & 0 \\\\\n",
    "  0 & 0 & 1   \n",
    "\\end{array}\\right]\n",
    "\\end{align}"
   ]
  },
  {
   "cell_type": "markdown",
   "metadata": {},
   "source": [
    "## 1. Equivalent rotation matrix\n",
    "\n",
    "Here we compute the rotation matrix that is equivalent to the sequence of rotations descibed above, namely\n",
    "\n",
    "\\begin{align}\n",
    "  \\matrix{R} = \\matrix{R}_{z''}(\\psi)\\matrix{R}_{x'}(\\theta)\\matrix{R}_{z}(\\phi)\n",
    "\\end{align}\n",
    "\n",
    "We perform the matrix multiplications using SymPy."
   ]
  },
  {
   "cell_type": "code",
   "execution_count": 1,
   "metadata": {},
   "outputs": [],
   "source": [
    "# import sympy\n",
    "import sympy as sym\n",
    "sym.init_printing()"
   ]
  },
  {
   "cell_type": "code",
   "execution_count": 28,
   "metadata": {},
   "outputs": [],
   "source": [
    "# define Euler angles\n",
    "phi, theta, psi = sym.symbols('phi, theta, psi')"
   ]
  },
  {
   "cell_type": "code",
   "execution_count": 29,
   "metadata": {},
   "outputs": [
    {
     "data": {
      "image/png": "[encoded data removed]",
      "text/latex": [
       "$$\\left[\\begin{matrix}\\cos{\\left (\\psi \\right )} & \\sin{\\left (\\psi \\right )} & 0\\\\- \\sin{\\left (\\psi \\right )} & \\cos{\\left (\\psi \\right )} & 0\\\\0 & 0 & 1\\end{matrix}\\right]$$"
      ],
      "text/plain": [
       "⎡cos(ψ)   sin(ψ)  0⎤\n",
       "⎢                  ⎥\n",
       "⎢-sin(ψ)  cos(ψ)  0⎥\n",
       "⎢                  ⎥\n",
       "⎣   0       0     1⎦"
      ]
     },
     "execution_count": 29,
     "metadata": {},
     "output_type": "execute_result"
    }
   ],
   "source": [
    "# Rz\n",
    "def Rz(angle):\n",
    "    return sym.Matrix([[sym.cos(angle), sym.sin(angle), 0],[-sym.sin(angle), sym.cos(angle), 0],[0, 0, 1]])\n",
    "Rz(psi)"
   ]
  },
  {
   "cell_type": "code",
   "execution_count": 30,
   "metadata": {},
   "outputs": [
    {
     "data": {
      "image/png": "[encoded data removed]",
      "text/latex": [
       "$$\\left[\\begin{matrix}1 & 0 & 0\\\\0 & \\cos{\\left (\\theta \\right )} & \\sin{\\left (\\theta \\right )}\\\\0 & - \\sin{\\left (\\theta \\right )} & \\cos{\\left (\\theta \\right )}\\end{matrix}\\right]$$"
      ],
      "text/plain": [
       "⎡1     0       0   ⎤\n",
       "⎢                  ⎥\n",
       "⎢0  cos(θ)   sin(θ)⎥\n",
       "⎢                  ⎥\n",
       "⎣0  -sin(θ)  cos(θ)⎦"
      ]
     },
     "execution_count": 30,
     "metadata": {},
     "output_type": "execute_result"
    }
   ],
   "source": [
    "# Rx\n",
    "def Rx(angle):\n",
    "    return sym.Matrix([[1, 0, 0], [0, sym.cos(angle), sym.sin(angle)],[0, -sym.sin(angle), sym.cos(angle)]])\n",
    "Rx(theta)"
   ]
  },
  {
   "cell_type": "code",
   "execution_count": 31,
   "metadata": {},
   "outputs": [
    {
     "data": {
      "image/png": "[encoded data removed]",
      "text/latex": [
       "$$\\left[\\begin{matrix}- \\sin{\\left (\\phi \\right )} \\sin{\\left (\\psi \\right )} \\cos{\\left (\\theta \\right )} + \\cos{\\left (\\phi \\right )} \\cos{\\left (\\psi \\right )} & \\sin{\\left (\\phi \\right )} \\cos{\\left (\\psi \\right )} + \\sin{\\left (\\psi \\right )} \\cos{\\left (\\phi \\right )} \\cos{\\left (\\theta \\right )} & \\sin{\\left (\\psi \\right )} \\sin{\\left (\\theta \\right )}\\\\- \\sin{\\left (\\phi \\right )} \\cos{\\left (\\psi \\right )} \\cos{\\left (\\theta \\right )} - \\sin{\\left (\\psi \\right )} \\cos{\\left (\\phi \\right )} & - \\sin{\\left (\\phi \\right )} \\sin{\\left (\\psi \\right )} + \\cos{\\left (\\phi \\right )} \\cos{\\left (\\psi \\right )} \\cos{\\left (\\theta \\right )} & \\sin{\\left (\\theta \\right )} \\cos{\\left (\\psi \\right )}\\\\\\sin{\\left (\\phi \\right )} \\sin{\\left (\\theta \\right )} & - \\sin{\\left (\\theta \\right )} \\cos{\\left (\\phi \\right )} & \\cos{\\left (\\theta \\right )}\\end{matrix}\\right]$$"
      ],
      "text/plain": [
       "⎡-sin(φ)⋅sin(ψ)⋅cos(θ) + cos(φ)⋅cos(ψ)  sin(φ)⋅cos(ψ) + sin(ψ)⋅cos(φ)⋅cos(θ)  \n",
       "⎢                                                                             \n",
       "⎢-sin(φ)⋅cos(ψ)⋅cos(θ) - sin(ψ)⋅cos(φ)  -sin(φ)⋅sin(ψ) + cos(φ)⋅cos(ψ)⋅cos(θ) \n",
       "⎢                                                                             \n",
       "⎣            sin(φ)⋅sin(θ)                         -sin(θ)⋅cos(φ)             \n",
       "\n",
       " sin(ψ)⋅sin(θ)⎤\n",
       "              ⎥\n",
       " sin(θ)⋅cos(ψ)⎥\n",
       "              ⎥\n",
       "    cos(θ)    ⎦"
      ]
     },
     "execution_count": 31,
     "metadata": {},
     "output_type": "execute_result"
    }
   ],
   "source": [
    "# RzRxRz\n",
    "R = Rz(psi)*Rx(theta)*Rz(phi)\n",
    "R"
   ]
  },
  {
   "cell_type": "markdown",
   "metadata": {},
   "source": [
    "## 2. Rotation vector in the body frame\n",
    "\n",
    "The instantaneous rotation vector of a rigid body is given by the vector sum\n",
    "\n",
    "\\begin{align}\n",
    "  \\vect{\\omega} \n",
    "  = \\vect{\\omega}_{\\phi} + \\vect{\\omega}_{\\theta} + \\vect{\\omega}_{\\psi}\n",
    "\\end{align}\n",
    "\n",
    "where $\\vect{\\omega}_{\\phi}$, $\\vect{\\omega}_{\\theta}$, and $\\vect{\\omega}_{\\psi}$ are the individual rotation vectors for each of the three Euler rotations. For the purposes of solving the equations of motion, we need the components of these vectors in the same coordinate system. Here we obtain the components of $\\vect{\\omega}$ in the body frame coordinates, $\\{x''', y''', z'''\\}$ from above.\n",
    "\n",
    "The individual rotation vectors have the following components in their most \"natural\" coordinates\n",
    "\n",
    "\\begin{align}\n",
    "(\\vect{\\omega}_{\\phi})_\\mathrm{space}\n",
    "= (\\vect{\\omega}_{\\phi})_{\\{x,y,z\\}}\n",
    "= (\\vect{\\omega}_{\\phi})_{\\{x',y',z'\\}}\n",
    "= \\left[\\begin{array}{c}\n",
    "  0 \\\\\n",
    "  0 \\\\\n",
    "  \\dot{\\phi}\n",
    "\\end{array}\\right]\n",
    "\\end{align}\n",
    "\n",
    "\\begin{align}\n",
    "(\\vect{\\omega}_{\\theta})_\\mathrm{intermediate}\n",
    "= (\\vect{\\omega}_{\\theta})_{\\{x',y',z'\\}}\n",
    "= (\\vect{\\omega}_{\\theta})_{\\{x'',y'',z''\\}}\n",
    "= \\left[\\begin{array}{c}\n",
    "  \\dot{\\theta} \\\\\n",
    "  0 \\\\\n",
    "  0\n",
    "\\end{array}\\right]\n",
    "\\end{align}\n",
    "\n",
    "\\begin{align}\n",
    "(\\vect{\\omega}_{\\psi})_\\mathrm{body}\n",
    "= (\\vect{\\omega}_{\\psi})_{\\{x'',y'',z''\\}}\n",
    "= (\\vect{\\omega}_{\\psi})_{\\{x''',y''',z'''\\}}\n",
    "= \\left[\\begin{array}{c}\n",
    "  0 \\\\\n",
    "  0 \\\\\n",
    "  \\dot{\\psi} \\\\\n",
    "\\end{array}\\right]\n",
    "\\end{align}\n",
    "\n",
    "Since $\\vect{\\omega}_{\\psi}$ is already in the body frame coordinates, we only need to transform $\\vect{\\omega}_{\\phi}$ and $\\vect{\\omega}_{\\theta}$, as follows\n",
    "\n",
    "\\begin{align}\n",
    "  (\\vect{\\omega}_{\\phi})_\\mathrm{body} \n",
    "  & = \\matrix{R}_{z}(\\psi)\\matrix{R}_{x}(\\theta)\\matrix{R}_{z}(\\phi)(\\vect{\\omega}_{\\phi})_\\mathrm{space}\n",
    "  = \\matrix{R}_{z}(\\psi)\\matrix{R}_{x}(\\theta)(\\vect{\\omega}_{\\phi})_\\mathrm{space}\n",
    "  \\\\\n",
    "  \\mbox{}\n",
    "  \\\\\n",
    "  (\\vect{\\omega}_{\\theta})_\\mathrm{body} \n",
    "  & = \\matrix{R}_{z}(\\psi)\\matrix{R}_{x}(\\theta)(\\vect{\\omega}_{\\theta})_\\mathrm{intermediate}\n",
    "  = \\matrix{R}_{z}(\\psi)(\\vect{\\omega}_{\\theta})_\\mathrm{intermediate}\n",
    "\\end{align}"
   ]
  },
  {
   "cell_type": "code",
   "execution_count": 6,
   "metadata": {},
   "outputs": [
    {
     "data": {
      "image/png": "[encoded data removed]",
      "text/latex": [
       "$$\\left[\\begin{matrix}\\omega_{\\phi} \\sin{\\left (\\psi \\right )} \\sin{\\left (\\theta \\right )}\\\\\\omega_{\\phi} \\sin{\\left (\\theta \\right )} \\cos{\\left (\\psi \\right )}\\\\\\omega_{\\phi} \\cos{\\left (\\theta \\right )}\\end{matrix}\\right]$$"
      ],
      "text/plain": [
       "⎡ωᵩ⋅sin(ψ)⋅sin(θ)⎤\n",
       "⎢                ⎥\n",
       "⎢ωᵩ⋅sin(θ)⋅cos(ψ)⎥\n",
       "⎢                ⎥\n",
       "⎣   ωᵩ⋅cos(θ)    ⎦"
      ]
     },
     "execution_count": 6,
     "metadata": {},
     "output_type": "execute_result"
    }
   ],
   "source": [
    "# omega_phi\n",
    "omega_phi = sym.symbols('omega_phi')\n",
    "omega_phi_space = sym.Matrix([0, 0, omega_phi])\n",
    "omega_phi_body = Rz(psi)*Rx(theta)*omega_phi_space\n",
    "omega_phi_body"
   ]
  },
  {
   "cell_type": "code",
   "execution_count": 7,
   "metadata": {},
   "outputs": [
    {
     "data": {
      "image/png": "[encoded data removed]",
      "text/latex": [
       "$$\\left[\\begin{matrix}\\omega_{\\theta} \\cos{\\left (\\psi \\right )}\\\\- \\omega_{\\theta} \\sin{\\left (\\psi \\right )}\\\\0\\end{matrix}\\right]$$"
      ],
      "text/plain": [
       "⎡ω_θ⋅cos(ψ) ⎤\n",
       "⎢           ⎥\n",
       "⎢-ω_θ⋅sin(ψ)⎥\n",
       "⎢           ⎥\n",
       "⎣     0     ⎦"
      ]
     },
     "execution_count": 7,
     "metadata": {},
     "output_type": "execute_result"
    }
   ],
   "source": [
    "# omega_theta\n",
    "omega_theta = sym.symbols('omega_theta')\n",
    "omega_theta_int = sym.Matrix([omega_theta, 0, 0])\n",
    "omega_theta_body = Rz(psi)*omega_theta_int\n",
    "omega_theta_body"
   ]
  },
  {
   "cell_type": "code",
   "execution_count": 8,
   "metadata": {},
   "outputs": [
    {
     "data": {
      "image/png": "[encoded data removed]",
      "text/latex": [
       "$$\\left[\\begin{matrix}0\\\\0\\\\\\omega_{\\psi}\\end{matrix}\\right]$$"
      ],
      "text/plain": [
       "⎡ 0 ⎤\n",
       "⎢   ⎥\n",
       "⎢ 0 ⎥\n",
       "⎢   ⎥\n",
       "⎣ω_ψ⎦"
      ]
     },
     "execution_count": 8,
     "metadata": {},
     "output_type": "execute_result"
    }
   ],
   "source": [
    "# omega_psi\n",
    "omega_psi = sym.symbols('omega_psi')\n",
    "omega_psi_body = sym.Matrix([0, 0, omega_psi])\n",
    "omega_psi_body"
   ]
  },
  {
   "cell_type": "code",
   "execution_count": 9,
   "metadata": {
    "scrolled": true
   },
   "outputs": [
    {
     "data": {
      "image/png": "[encoded data removed]",
      "text/latex": [
       "$$\\left[\\begin{matrix}\\omega_{\\phi} \\sin{\\left (\\psi \\right )} \\sin{\\left (\\theta \\right )} + \\omega_{\\theta} \\cos{\\left (\\psi \\right )}\\\\\\omega_{\\phi} \\sin{\\left (\\theta \\right )} \\cos{\\left (\\psi \\right )} - \\omega_{\\theta} \\sin{\\left (\\psi \\right )}\\\\\\omega_{\\phi} \\cos{\\left (\\theta \\right )} + \\omega_{\\psi}\\end{matrix}\\right]$$"
      ],
      "text/plain": [
       "⎡ωᵩ⋅sin(ψ)⋅sin(θ) + ω_θ⋅cos(ψ)⎤\n",
       "⎢                             ⎥\n",
       "⎢ωᵩ⋅sin(θ)⋅cos(ψ) - ω_θ⋅sin(ψ)⎥\n",
       "⎢                             ⎥\n",
       "⎣       ωᵩ⋅cos(θ) + ω_ψ       ⎦"
      ]
     },
     "execution_count": 9,
     "metadata": {},
     "output_type": "execute_result"
    }
   ],
   "source": [
    "# omega\n",
    "omega_body = omega_phi_body + omega_theta_body + omega_psi_body\n",
    "omega_body"
   ]
  },
  {
   "cell_type": "markdown",
   "metadata": {},
   "source": [
    "We may also want expressions for $\\dot{\\vect{\\omega}}$ in terms of the Euler angles. As above, we denote first derivatives as $\\dot\\phi=\\omega_{\\phi}$, $\\dot\\theta=\\omega_{\\theta}$, and $\\dot\\psi=\\omega_{\\psi}$. In the following, we will denote second derivatives as $\\ddot\\phi=\\alpha_{\\phi}$, $\\ddot\\theta=\\alpha_{\\theta}$, and $\\ddot\\psi=\\alpha_{\\psi}$."
   ]
  },
  {
   "cell_type": "code",
   "execution_count": 45,
   "metadata": {},
   "outputs": [
    {
     "data": {
      "image/png": "[encoded data removed]",
      "text/latex": [
       "$$\\left[\\begin{matrix}\\alpha_{\\phi} \\sin{\\left (\\psi \\right )} \\sin{\\left (\\theta \\right )} + \\alpha_{\\theta} \\cos{\\left (\\psi \\right )} + \\omega_{\\phi} \\omega_{\\psi} \\sin{\\left (\\theta \\right )} \\cos{\\left (\\psi \\right )} + \\omega_{\\phi} \\omega_{\\theta} \\sin{\\left (\\psi \\right )} \\cos{\\left (\\theta \\right )} - \\omega_{\\psi} \\omega_{\\theta} \\sin{\\left (\\psi \\right )}\\\\\\alpha_{\\phi} \\sin{\\left (\\theta \\right )} \\cos{\\left (\\psi \\right )} - \\alpha_{\\theta} \\sin{\\left (\\psi \\right )} - \\omega_{\\phi} \\omega_{\\psi} \\sin{\\left (\\psi \\right )} \\sin{\\left (\\theta \\right )} + \\omega_{\\phi} \\omega_{\\theta} \\cos{\\left (\\psi \\right )} \\cos{\\left (\\theta \\right )} - \\omega_{\\psi} \\omega_{\\theta} \\cos{\\left (\\psi \\right )}\\\\\\alpha_{\\phi} \\cos{\\left (\\theta \\right )} + \\alpha_{\\psi} - \\omega_{\\phi} \\omega_{\\theta} \\sin{\\left (\\theta \\right )}\\end{matrix}\\right]$$"
      ],
      "text/plain": [
       "⎡αᵩ⋅sin(ψ)⋅sin(θ) + α_θ⋅cos(ψ) + ωᵩ⋅ω_ψ⋅sin(θ)⋅cos(ψ) + ωᵩ⋅ω_θ⋅sin(ψ)⋅cos(θ) -\n",
       "⎢                                                                             \n",
       "⎢αᵩ⋅sin(θ)⋅cos(ψ) - α_θ⋅sin(ψ) - ωᵩ⋅ω_ψ⋅sin(ψ)⋅sin(θ) + ωᵩ⋅ω_θ⋅cos(ψ)⋅cos(θ) -\n",
       "⎢                                                                             \n",
       "⎣                              αᵩ⋅cos(θ) + α_ψ - ωᵩ⋅ω_θ⋅sin(θ)                \n",
       "\n",
       " ω_ψ⋅ω_θ⋅sin(ψ)⎤\n",
       "               ⎥\n",
       " ω_ψ⋅ω_θ⋅cos(ψ)⎥\n",
       "               ⎥\n",
       "               ⎦"
      ]
     },
     "execution_count": 45,
     "metadata": {},
     "output_type": "execute_result"
    }
   ],
   "source": [
    "# d(omega)/dt\n",
    "\n",
    "def ddt(omega):\n",
    "    \n",
    "    # restore implicit time dependence\n",
    "    t = sym.symbols('t')\n",
    "    tvars = { phi : phi(t), theta : theta(t), psi : psi(t) }\n",
    "    dotvars = { omega_phi : sym.diff(phi(t),t), \n",
    "                omega_theta : sym.diff(theta(t),t), \n",
    "                omega_psi : sym.diff(psi(t),t) }\n",
    "    omega = omega.subs(tvars).subs(dotvars)\n",
    "\n",
    "    # differentiate\n",
    "    omegadot_0 = sym.diff(omega[0], t).simplify()\n",
    "    omegadot_1 = sym.diff(omega[1], t).simplify()\n",
    "    omegadot_2 = sym.diff(omega[2], t).simplify()\n",
    "\n",
    "    # remove implicit time dependence\n",
    "    alpha_phi, alpha_theta, alpha_psi = sym.symbols('alpha_phi, alpha_theta, alpha_psi')\n",
    "    dotdotvars_inv = { sym.diff(phi(t), t, 2) : alpha_phi, \n",
    "                       sym.diff(theta(t), t, 2) : alpha_theta, \n",
    "                       sym.diff(psi(t), t, 2) : alpha_psi }\n",
    "    dotvars_inv = { sym.diff(phi(t),t) : omega_phi, \n",
    "                    sym.diff(theta(t),t) : omega_theta, \n",
    "                    sym.diff(psi(t),t) : omega_psi }\n",
    "    tvars_inv = { phi(t) : phi, theta(t) : theta, psi(t) : psi }\n",
    "\n",
    "    omegadot_0 = omegadot_0.subs(dotdotvars_inv).subs(dotvars_inv).subs(tvars_inv)\n",
    "    omegadot_1 = omegadot_1.subs(dotdotvars_inv).subs(dotvars_inv).subs(tvars_inv)\n",
    "    omegadot_2 = omegadot_2.subs(dotdotvars_inv).subs(dotvars_inv).subs(tvars_inv)\n",
    "\n",
    "    # combine the results\n",
    "    omegadot_body = sym.Matrix([omegadot_0, omegadot_1, omegadot_2])\n",
    "    \n",
    "    return omegadot_body\n",
    "\n",
    "ddt(omega_body)"
   ]
  },
  {
   "cell_type": "markdown",
   "metadata": {},
   "source": [
    "## 3. Rotation vector in the space (fixed) frame\n",
    "\n",
    "If instead we want to work in the space (fixed) frame, we need all vector components in these coordinates. Since $\\vect{\\omega}_{\\phi}$ is already in the space frame coordinates, we only need to transform $\\vect{\\omega}_{\\theta}$ and $\\vect{\\omega}_{\\psi}$, as follows\n",
    "\n",
    "\\begin{align}\n",
    "  (\\vect{\\omega}_{\\theta})_\\mathrm{space} \n",
    "  & = \\matrix{R}_{z}(-\\phi)(\\vect{\\omega}_{\\theta})_\\mathrm{intermediate}\n",
    "  \\\\\n",
    "  \\mbox{}\n",
    "  \\\\\n",
    "  (\\vect{\\omega}_{\\psi})_\\mathrm{space} \n",
    "  & = \\matrix{R}_{z}(-\\phi)\\matrix{R}_{x}(-\\theta)(\\vect{\\omega}_{\\psi})_\\mathrm{body}\n",
    "\\end{align}"
   ]
  },
  {
   "cell_type": "code",
   "execution_count": 46,
   "metadata": {},
   "outputs": [
    {
     "data": {
      "image/png": "[encoded data removed]",
      "text/latex": [
       "$$\\left[\\begin{matrix}0\\\\0\\\\\\omega_{\\phi}\\end{matrix}\\right]$$"
      ],
      "text/plain": [
       "⎡0 ⎤\n",
       "⎢  ⎥\n",
       "⎢0 ⎥\n",
       "⎢  ⎥\n",
       "⎣ωᵩ⎦"
      ]
     },
     "execution_count": 46,
     "metadata": {},
     "output_type": "execute_result"
    }
   ],
   "source": [
    "# omega_phi\n",
    "omega_phi_space"
   ]
  },
  {
   "cell_type": "code",
   "execution_count": 47,
   "metadata": {},
   "outputs": [
    {
     "data": {
      "image/png": "[encoded data removed]",
      "text/latex": [
       "$$\\left[\\begin{matrix}\\omega_{\\theta} \\cos{\\left (\\phi \\right )}\\\\\\omega_{\\theta} \\sin{\\left (\\phi \\right )}\\\\0\\end{matrix}\\right]$$"
      ],
      "text/plain": [
       "⎡ω_θ⋅cos(φ)⎤\n",
       "⎢          ⎥\n",
       "⎢ω_θ⋅sin(φ)⎥\n",
       "⎢          ⎥\n",
       "⎣    0     ⎦"
      ]
     },
     "execution_count": 47,
     "metadata": {},
     "output_type": "execute_result"
    }
   ],
   "source": [
    "# omega_theta\n",
    "omega_theta_space = Rz(-phi)*omega_theta_int\n",
    "omega_theta_space"
   ]
  },
  {
   "cell_type": "code",
   "execution_count": 48,
   "metadata": {},
   "outputs": [
    {
     "data": {
      "image/png": "[encoded data removed]",
      "text/latex": [
       "$$\\left[\\begin{matrix}\\omega_{\\psi} \\sin{\\left (\\phi \\right )} \\sin{\\left (\\theta \\right )}\\\\- \\omega_{\\psi} \\sin{\\left (\\theta \\right )} \\cos{\\left (\\phi \\right )}\\\\\\omega_{\\psi} \\cos{\\left (\\theta \\right )}\\end{matrix}\\right]$$"
      ],
      "text/plain": [
       "⎡ω_ψ⋅sin(φ)⋅sin(θ) ⎤\n",
       "⎢                  ⎥\n",
       "⎢-ω_ψ⋅sin(θ)⋅cos(φ)⎥\n",
       "⎢                  ⎥\n",
       "⎣    ω_ψ⋅cos(θ)    ⎦"
      ]
     },
     "execution_count": 48,
     "metadata": {},
     "output_type": "execute_result"
    }
   ],
   "source": [
    "# omega_psi\n",
    "omega_psi_space = Rz(-phi)*Rx(-theta)*omega_psi_body\n",
    "omega_psi_space"
   ]
  },
  {
   "cell_type": "code",
   "execution_count": 49,
   "metadata": {
    "scrolled": true
   },
   "outputs": [
    {
     "data": {
      "image/png": "[encoded data removed]",
      "text/latex": [
       "$$\\left[\\begin{matrix}\\omega_{\\psi} \\sin{\\left (\\phi \\right )} \\sin{\\left (\\theta \\right )} + \\omega_{\\theta} \\cos{\\left (\\phi \\right )}\\\\- \\omega_{\\psi} \\sin{\\left (\\theta \\right )} \\cos{\\left (\\phi \\right )} + \\omega_{\\theta} \\sin{\\left (\\phi \\right )}\\\\\\omega_{\\phi} + \\omega_{\\psi} \\cos{\\left (\\theta \\right )}\\end{matrix}\\right]$$"
      ],
      "text/plain": [
       "⎡ω_ψ⋅sin(φ)⋅sin(θ) + ω_θ⋅cos(φ) ⎤\n",
       "⎢                               ⎥\n",
       "⎢-ω_ψ⋅sin(θ)⋅cos(φ) + ω_θ⋅sin(φ)⎥\n",
       "⎢                               ⎥\n",
       "⎣        ωᵩ + ω_ψ⋅cos(θ)        ⎦"
      ]
     },
     "execution_count": 49,
     "metadata": {},
     "output_type": "execute_result"
    }
   ],
   "source": [
    "# omega\n",
    "omega_space = omega_phi_space + omega_theta_space + omega_psi_space\n",
    "omega_space"
   ]
  },
  {
   "cell_type": "code",
   "execution_count": 50,
   "metadata": {},
   "outputs": [
    {
     "data": {
      "image/png": "[encoded data removed]",
      "text/latex": [
       "$$\\left[\\begin{matrix}\\alpha_{\\psi} \\sin{\\left (\\phi \\right )} \\sin{\\left (\\theta \\right )} + \\alpha_{\\theta} \\cos{\\left (\\phi \\right )} + \\omega_{\\phi} \\omega_{\\psi} \\sin{\\left (\\theta \\right )} \\cos{\\left (\\phi \\right )} - \\omega_{\\phi} \\omega_{\\theta} \\sin{\\left (\\phi \\right )} + \\omega_{\\psi} \\omega_{\\theta} \\sin{\\left (\\phi \\right )} \\cos{\\left (\\theta \\right )}\\\\- \\alpha_{\\psi} \\sin{\\left (\\theta \\right )} \\cos{\\left (\\phi \\right )} + \\alpha_{\\theta} \\sin{\\left (\\phi \\right )} + \\omega_{\\phi} \\omega_{\\psi} \\sin{\\left (\\phi \\right )} \\sin{\\left (\\theta \\right )} + \\omega_{\\phi} \\omega_{\\theta} \\cos{\\left (\\phi \\right )} - \\omega_{\\psi} \\omega_{\\theta} \\cos{\\left (\\phi \\right )} \\cos{\\left (\\theta \\right )}\\\\\\alpha_{\\phi} + \\alpha_{\\psi} \\cos{\\left (\\theta \\right )} - \\omega_{\\psi} \\omega_{\\theta} \\sin{\\left (\\theta \\right )}\\end{matrix}\\right]$$"
      ],
      "text/plain": [
       "⎡α_ψ⋅sin(φ)⋅sin(θ) + α_θ⋅cos(φ) + ωᵩ⋅ω_ψ⋅sin(θ)⋅cos(φ) - ωᵩ⋅ω_θ⋅sin(φ) + ω_ψ⋅ω\n",
       "⎢                                                                             \n",
       "⎢-α_ψ⋅sin(θ)⋅cos(φ) + α_θ⋅sin(φ) + ωᵩ⋅ω_ψ⋅sin(φ)⋅sin(θ) + ωᵩ⋅ω_θ⋅cos(φ) - ω_ψ⋅\n",
       "⎢                                                                             \n",
       "⎣                               αᵩ + α_ψ⋅cos(θ) - ω_ψ⋅ω_θ⋅sin(θ)              \n",
       "\n",
       "_θ⋅sin(φ)⋅cos(θ) ⎤\n",
       "                 ⎥\n",
       "ω_θ⋅cos(φ)⋅cos(θ)⎥\n",
       "                 ⎥\n",
       "                 ⎦"
      ]
     },
     "execution_count": 50,
     "metadata": {},
     "output_type": "execute_result"
    }
   ],
   "source": [
    "#d(omega)/dt\n",
    "ddt(omega_space)"
   ]
  },
  {
   "cell_type": "code",
   "execution_count": null,
   "metadata": {},
   "outputs": [],
   "source": []
  }
 ],
 "metadata": {
  "kernelspec": {
   "display_name": "Python 3",
   "language": "python",
   "name": "python3"
  },
  "language_info": {
   "codemirror_mode": {
    "name": "ipython",
    "version": 3
   },
   "file_extension": ".py",
   "mimetype": "text/x-python",
   "name": "python",
   "nbconvert_exporter": "python",
   "pygments_lexer": "ipython3",
   "version": "3.6.5"
  }
 },
 "nbformat": 4,
 "nbformat_minor": 2
}
